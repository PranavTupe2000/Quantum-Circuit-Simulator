{
 "cells": [
  {
   "cell_type": "markdown",
   "metadata": {},
   "source": [
    "# Quantum Circuit Simulator Demo\n",
    "### QSimulator - How to use"
   ]
  },
  {
   "cell_type": "code",
   "execution_count": 3,
   "metadata": {},
   "outputs": [],
   "source": [
    "import QSimulator as qs"
   ]
  },
  {
   "cell_type": "markdown",
   "metadata": {},
   "source": [
    "### Initializing the quantum state of qubits\n",
    "This can be done using 2 methods:"
   ]
  },
  {
   "cell_type": "markdown",
   "metadata": {},
   "source": [
    "Method 1:\n",
    "Initialized the states of all qubits to ground (zero/|0>)"
   ]
  },
  {
   "cell_type": "code",
   "execution_count": 4,
   "metadata": {},
   "outputs": [
    {
     "name": "stdout",
     "output_type": "stream",
     "text": [
      "[1, 0, 0, 0, 0, 0, 0, 0]\n"
     ]
    }
   ],
   "source": [
    "initial_state = qs.get_ground_state(3) #get the ground state of 3 qubits\n",
    "print(initial_state)"
   ]
  },
  {
   "cell_type": "markdown",
   "metadata": {},
   "source": [
    "\n",
    "Method 2: Get the combied state of custom qubits"
   ]
  },
  {
   "cell_type": "code",
   "execution_count": 5,
   "metadata": {},
   "outputs": [
    {
     "name": "stdout",
     "output_type": "stream",
     "text": [
      "[0 1 0 0]\n",
      "[ 0.5 -0.5  0.5 -0.5]\n"
     ]
    }
   ],
   "source": [
    "#Initalizing sample Qubits\n",
    "q0 = [1, 0]                                     #|0>\n",
    "q1 = [0, 1]                                     #|1>\n",
    "q2 = [0.7071067811865475, 0.7071067811865475]   #|+>\n",
    "q3 = [0.7071067811865475, -0.7071067811865475]  #|->\n",
    "\n",
    "#Get the combined state\n",
    "combined_state_01 = qs.get_combined_state(q0,q1)\n",
    "print(combined_state_01)\n",
    "combined_state_02 = qs.get_combined_state(q2,q3)\n",
    "print(combined_state_02)"
   ]
  },
  {
   "cell_type": "markdown",
   "metadata": {},
   "source": [
    "##### Note: This simulator is using big endian encoding"
   ]
  },
  {
   "cell_type": "markdown",
   "metadata": {},
   "source": [
    "### Define program"
   ]
  },
  {
   "cell_type": "markdown",
   "metadata": {},
   "source": [
    "Program definations containts the structure of ciruit. It is a list of dictionary where each dictionary contains:\n",
    "1. Key \"gate\" whose Value is the name of quantum gate\n",
    "2. Key \"target\" whose Value contains the list of qubits on which the respected gate is to be applied"
   ]
  },
  {
   "cell_type": "code",
   "execution_count": 6,
   "metadata": {},
   "outputs": [],
   "source": [
    "my_prograam =[\n",
    "{ \"gate\": \"h\", \"target\": [1] },\n",
    "{ \"gate\": \"cx\", \"target\": [1,2] }\n",
    "]"
   ]
  },
  {
   "cell_type": "markdown",
   "metadata": {},
   "source": [
    "##### Note: Qubits numbering starts from one (and not zero)"
   ]
  },
  {
   "cell_type": "markdown",
   "metadata": {},
   "source": [
    "### Add custom gates\n",
    "If you want to apply your custom gates, then first you need to add it's name and definition(in form of numpy matrix) to the gate dictionary. This can be done using add_custom_gate() function"
   ]
  },
  {
   "cell_type": "code",
   "execution_count": 8,
   "metadata": {},
   "outputs": [],
   "source": [
    "import numpy as np\n",
    "V =np.array([\n",
    "[1, 1],\n",
    "[1, 0]\n",
    "])\n",
    "qs.add_custom_gate(\"v\",V)"
   ]
  },
  {
   "cell_type": "markdown",
   "metadata": {},
   "source": [
    "## Running Full Demos"
   ]
  },
  {
   "cell_type": "markdown",
   "metadata": {},
   "source": [
    "### Demo 1: Bell's State"
   ]
  },
  {
   "cell_type": "code",
   "execution_count": 11,
   "metadata": {},
   "outputs": [
    {
     "name": "stdout",
     "output_type": "stream",
     "text": [
      "{'00': 507, '11': 493}\n"
     ]
    }
   ],
   "source": [
    "#Initial State\n",
    "initial_state = qs.get_ground_state(2)\n",
    "\n",
    "#Bell's State Program\n",
    "bell_state_program =[\n",
    "{ \"gate\": \"h\", \"target\": [1] },\n",
    "{ \"gate\": \"cx\", \"target\": [1,2] }\n",
    "]\n",
    "\n",
    "#Running the program to get the final state\n",
    "final_state = qs.run_program(initial_state,bell_state_program)\n",
    "\n",
    "#Setting the number of shots and getting the final output\n",
    "counts = qs.get_counts(final_state,1000)\n",
    "\n",
    "#Final Output\n",
    "print(counts)"
   ]
  },
  {
   "cell_type": "markdown",
   "metadata": {},
   "source": [
    "### Demo 2:"
   ]
  },
  {
   "cell_type": "code",
   "execution_count": 12,
   "metadata": {},
   "outputs": [
    {
     "name": "stdout",
     "output_type": "stream",
     "text": [
      "{'0001': 225, '1110': 275, '1010': 253, '0101': 247}\n"
     ]
    }
   ],
   "source": [
    "#Initial State\n",
    "initial_state = qs.get_ground_state(4)\n",
    "\n",
    "#Program\n",
    "my_program =[\n",
    "{ \"gate\": \"h\", \"target\": [1] },\n",
    "{ \"gate\": \"h\", \"target\": [2] },\n",
    "{ \"gate\": \"cx\", \"target\": [1,3] },\n",
    "{ \"gate\": \"cx\", \"target\": [1,4] },\n",
    "{ \"gate\": \"x\", \"target\": [4] }\n",
    "]\n",
    "\n",
    "#Running the program to get the final state\n",
    "final_state = qs.run_program(initial_state,my_program)\n",
    "\n",
    "#Setting the number of shots and getting the final output\n",
    "counts = qs.get_counts(final_state,1000)\n",
    "\n",
    "#Final Output\n",
    "print(counts)"
   ]
  },
  {
   "cell_type": "code",
   "execution_count": null,
   "metadata": {},
   "outputs": [],
   "source": []
  }
 ],
 "metadata": {
  "kernelspec": {
   "display_name": "Python 3",
   "language": "python",
   "name": "python3"
  },
  "language_info": {
   "codemirror_mode": {
    "name": "ipython",
    "version": 3
   },
   "file_extension": ".py",
   "mimetype": "text/x-python",
   "name": "python",
   "nbconvert_exporter": "python",
   "pygments_lexer": "ipython3",
   "version": "3.8.3"
  }
 },
 "nbformat": 4,
 "nbformat_minor": 2
}
